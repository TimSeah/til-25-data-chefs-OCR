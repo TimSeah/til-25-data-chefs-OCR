version https://git-lfs.github.com/spec/v1
oid sha256:94f1b5430c66b81024c4960f684c8ebb7fefa7f4771c3d8291354323d7cb4778
size 94014854
