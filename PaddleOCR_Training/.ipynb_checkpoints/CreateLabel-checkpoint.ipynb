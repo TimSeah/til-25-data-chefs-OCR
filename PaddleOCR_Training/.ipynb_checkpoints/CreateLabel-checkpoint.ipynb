{
 "cells": [
  {
   "cell_type": "markdown",
   "id": "897c67fb-0e63-429a-89d0-eebb82863860",
   "metadata": {},
   "source": [
    "# Create Label"
   ]
  },
  {
   "cell_type": "code",
   "execution_count": 2,
   "id": "6a54366f-28b4-440f-9557-4018f3b77a44",
   "metadata": {
    "tags": []
   },
   "outputs": [
    {
     "name": "stdout",
     "output_type": "stream",
     "text": [
      "Scanning folder: /home/jupyter/advanced/ocr/\n",
      "\n",
      "Successfully created '/home/jupyter/ocr_output/labels.csv' with 4500 image-text pairs.\n"
     ]
    }
   ],
   "source": [
    "import os\n",
    "import pandas as pd\n",
    "\n",
    "IMAGE_EXTENSIONS = ('.jpg', '.jpeg', '.png', '.bmp', '.tiff', '.gif')\n",
    "\n",
    "def create_labels_csv(image_folder: str, output_csv_path: str):\n",
    "    image_files = []\n",
    "    text_contents = []\n",
    "    found_pairs = 0\n",
    "    missing_text_for_images = 0\n",
    "    print(f\"Scanning folder: {image_folder}\")\n",
    "    if not os.path.isdir(image_folder):\n",
    "        print(f\"Error: Image folder not found or is not a directory: {image_folder}\")\n",
    "        return\n",
    "    for filename in os.listdir(image_folder):\n",
    "        file_basename, file_extension = os.path.splitext(filename)\n",
    "        if file_extension.lower() in IMAGE_EXTENSIONS:\n",
    "            current_image_path = os.path.join(image_folder, filename)\n",
    "            text_to_add = None\n",
    "            text_filename_pattern1 = f\"{file_basename}_text.txt\"\n",
    "            text_filepath_pattern1 = os.path.join(image_folder, text_filename_pattern1)\n",
    "            if os.path.exists(text_filepath_pattern1):\n",
    "                try:\n",
    "                    with open(text_filepath_pattern1, 'r', encoding='utf-8') as f:\n",
    "                        content = f.read().strip()\n",
    "                    if content:\n",
    "                        text_to_add = content\n",
    "                    else:\n",
    "                        print(f\"Info: Text file '{text_filename_pattern1}' for image '{filename}' is empty.\")\n",
    "                except Exception as e:\n",
    "                    print(f\"Warning: Error reading text file '{text_filename_pattern1}' for image '{filename}': {e}\")\n",
    "            if text_to_add is None:\n",
    "                text_filename_pattern2 = f\"{file_basename}.txt\"\n",
    "                text_filepath_pattern2 = os.path.join(image_folder, text_filename_pattern2)\n",
    "                if os.path.exists(text_filepath_pattern2):\n",
    "                    try:\n",
    "                        with open(text_filepath_pattern2, 'r', encoding='utf-8') as f:\n",
    "                            content = f.read().strip()\n",
    "                        if content:\n",
    "                            text_to_add = content\n",
    "                        else:\n",
    "                            print(f\"Info: Text file '{text_filename_pattern2}' for image '{filename}' is empty.\")\n",
    "                    except Exception as e:\n",
    "                        print(f\"Warning: Error reading text file '{text_filename_pattern2}' for image '{filename}': {e}\")\n",
    "            if text_to_add:\n",
    "                image_files.append(current_image_path)\n",
    "                text_contents.append(text_to_add)\n",
    "                found_pairs += 1\n",
    "            else:\n",
    "                missing_text_for_images += 1\n",
    "                if not os.path.exists(text_filepath_pattern1) and \\\n",
    "                   not os.path.exists(os.path.join(image_folder, f\"{file_basename}.txt\")):\n",
    "                    print(f\"Info: No corresponding text file ('{text_filename_pattern1}' or '{file_basename}.txt') found for image '{filename}'.\")\n",
    "    if not image_files:\n",
    "        print(\"No image-text pairs found. Please check file naming conventions and folder content.\")\n",
    "        return\n",
    "    df = pd.DataFrame({'image_path': image_files, 'text': text_contents})\n",
    "    try:\n",
    "        os.makedirs(os.path.dirname(output_csv_path), exist_ok=True)\n",
    "        df.to_csv(output_csv_path, index=False)\n",
    "        print(f\"\\nSuccessfully created '{output_csv_path}' with {found_pairs} image-text pairs.\")\n",
    "        if missing_text_for_images > 0:\n",
    "            print(f\"Could not find or process valid text for {missing_text_for_images} images.\")\n",
    "    except Exception as e:\n",
    "        print(f\"Error: Could not write CSV file to '{output_csv_path}': {e}\")\n",
    "\n",
    "if __name__ == \"__main__\":\n",
    "    # --- Configuration ---\n",
    "    # Input image folder (assuming this path is still correct)\n",
    "    image_folder_path = \"/home/jupyter/advanced/ocr/\" \n",
    "    \n",
    "    # UPDATED: Output directory for labels.csv\n",
    "    writable_output_directory = \"/home/jupyter/PaddleOCR_Training/ocr_output/\" \n",
    "    output_csv_file = os.path.join(writable_output_directory, \"labels.csv\")\n",
    "\n",
    "    # --- Run the script ---\n",
    "    create_labels_csv(image_folder_path, output_csv_file)"
   ]
  },
  {
   "cell_type": "markdown",
   "id": "2d4fed20-af9e-4b20-890c-749e1e24ba92",
   "metadata": {},
   "source": [
    "# Create Paddle Labels"
   ]
  },
  {
   "cell_type": "code",
   "execution_count": 3,
   "id": "11f675cc-7794-44f0-881c-8b7f328228ba",
   "metadata": {
    "tags": []
   },
   "outputs": [
    {
     "name": "stdout",
     "output_type": "stream",
     "text": [
      "Successfully created training label file: /home/jupyter/ocr_output/paddle_labels/rec_gt_train.txt with 3600 entries.\n",
      "Successfully created evaluation label file: /home/jupyter/ocr_output/paddle_labels/rec_gt_eval.txt with 900 entries.\n"
     ]
    }
   ],
   "source": [
    "import pandas as pd\n",
    "from sklearn.model_selection import train_test_split\n",
    "import os\n",
    "\n",
    "def convert_and_split_labels(csv_path, output_dir, train_filename=\"rec_gt_train.txt\", eval_filename=\"rec_gt_eval.txt\", test_size=0.2, random_state=42):\n",
    "    if not os.path.exists(csv_path):\n",
    "        print(f\"Error: CSV file not found at {csv_path}\")\n",
    "        return\n",
    "\n",
    "    df = pd.read_csv(csv_path)\n",
    "\n",
    "    if 'image_path' not in df.columns or 'text' not in df.columns:\n",
    "        print(\"Error: CSV must contain 'image_path' and 'text' columns.\")\n",
    "        return\n",
    "\n",
    "    os.makedirs(output_dir, exist_ok=True)\n",
    "    train_df, eval_df = train_test_split(df, test_size=test_size, random_state=random_state)\n",
    "\n",
    "    output_train_path = os.path.join(output_dir, train_filename)\n",
    "    with open(output_train_path, 'w', encoding='utf-8') as f_train:\n",
    "        for _, row in train_df.iterrows():\n",
    "            f_train.write(f\"{row['image_path']}\\t{row['text']}\\n\")\n",
    "    print(f\"Successfully created training label file: {output_train_path} with {len(train_df)} entries.\")\n",
    "\n",
    "    output_eval_path = os.path.join(output_dir, eval_filename)\n",
    "    with open(output_eval_path, 'w', encoding='utf-8') as f_eval:\n",
    "        for _, row in eval_df.iterrows():\n",
    "            f_eval.write(f\"{row['image_path']}\\t{row['text']}\\n\")\n",
    "    print(f\"Successfully created evaluation label file: {output_eval_path} with {len(eval_df)} entries.\")\n",
    "\n",
    "if __name__ == \"__main__\":\n",
    "    # --- Configuration ---\n",
    "    # UPDATED: Path to labels.csv\n",
    "    labels_csv_file = \"/home/jupyter/ocr_output/labels.csv\" \n",
    "    \n",
    "    # UPDATED: Directory where rec_gt_train.txt and rec_gt_eval.txt will be saved\n",
    "    paddle_labels_output_dir = \"/home/jupyter/ocr_output/paddle_labels/\" \n",
    "\n",
    "    # --- Run the script ---\n",
    "    if os.path.exists(labels_csv_file):\n",
    "        convert_and_split_labels(labels_csv_file, paddle_labels_output_dir)\n",
    "    else:\n",
    "        print(f\"Input CSV '{labels_csv_file}' not found. Please run create_label.py first.\")"
   ]
  },
  {
   "cell_type": "markdown",
   "id": "d57c65e8-1f8d-4636-a1fd-0b231aa59749",
   "metadata": {},
   "source": [
    "# Create Char Dict"
   ]
  },
  {
   "cell_type": "code",
   "execution_count": null,
   "id": "5c64a13b-0e2e-468d-82d6-ff2ead3f5ff3",
   "metadata": {},
   "outputs": [],
   "source": [
    "import pandas as pd\n",
    "import os\n",
    "\n",
    "def create_char_dictionary(csv_path, output_dict_path=\"custom_char_dict.txt\"):\n",
    "    if not os.path.exists(csv_path):\n",
    "        print(f\"Error: CSV file not found at {csv_path}\")\n",
    "        return\n",
    "\n",
    "    df = pd.read_csv(csv_path)\n",
    "    if 'text' not in df.columns:\n",
    "        print(\"Error: CSV must contain a 'text' column.\")\n",
    "        return\n",
    "\n",
    "    all_text = \"\".join(df['text'].astype(str).tolist())\n",
    "    unique_chars = sorted(list(set(all_text)))\n",
    "\n",
    "    os.makedirs(os.path.dirname(output_dict_path), exist_ok=True)\n",
    "    with open(output_dict_path, 'w', encoding='utf-8') as f:\n",
    "        for char in unique_chars:\n",
    "            f.write(char + '\\n')\n",
    "    \n",
    "    print(f\"Successfully created character dictionary: {output_dict_path} with {len(unique_chars)} unique characters.\")\n",
    "\n",
    "if __name__ == \"__main__\":\n",
    "    # --- Configuration ---\n",
    "    # UPDATED: Path to labels.csv\n",
    "    labels_csv_file = \"/home/jupyter/ocr_output/labels.csv\"\n",
    "    \n",
    "    # UPDATED: Path for custom_char_dict.txt\n",
    "    char_dict_file = \"/home/jupyter/ocr_output/paddle_labels/custom_char_dict.txt\"\n",
    "\n",
    "    # --- Run the script ---\n",
    "    if os.path.exists(labels_csv_file):\n",
    "        create_char_dictionary(labels_csv_file, char_dict_file)\n",
    "    else:\n",
    "        print(f\"Input CSV '{labels_csv_file}' not found. Please run create_label.py first.\")"
   ]
  }
 ],
 "metadata": {
  "environment": {
   "kernel": "ocr_env",
   "name": "workbench-notebooks.m129",
   "type": "gcloud",
   "uri": "us-docker.pkg.dev/deeplearning-platform-release/gcr.io/workbench-notebooks:m129"
  },
  "kernelspec": {
   "display_name": "ocr_env",
   "language": "python",
   "name": "ocr_env"
  },
  "language_info": {
   "codemirror_mode": {
    "name": "ipython",
    "version": 3
   },
   "file_extension": ".py",
   "mimetype": "text/x-python",
   "name": "python",
   "nbconvert_exporter": "python",
   "pygments_lexer": "ipython3",
   "version": "3.12.10"
  }
 },
 "nbformat": 4,
 "nbformat_minor": 5
}
